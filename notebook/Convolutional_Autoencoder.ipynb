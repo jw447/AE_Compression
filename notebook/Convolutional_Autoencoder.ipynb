{
 "cells": [
  {
   "cell_type": "markdown",
   "metadata": {},
   "source": [
    "# Convolutional Autoencoder with GROMACS data\n",
    "\n",
    "Sticking with the MNIST dataset, let's improve our autoencoder's performance using convolutional layers. Again, loading modules and the data."
   ]
  },
  {
   "cell_type": "code",
   "execution_count": 1,
   "metadata": {},
   "outputs": [],
   "source": [
    "%matplotlib inline\n",
    "\n",
    "import numpy as np\n",
    "import tensorflow as tf\n",
    "import matplotlib.pyplot as plt"
   ]
  },
  {
   "cell_type": "code",
   "execution_count": 2,
   "metadata": {},
   "outputs": [
    {
     "name": "stdout",
     "output_type": "stream",
     "text": [
      "(10000000,)\n",
      "(10000000, 3)\n"
     ]
    }
   ],
   "source": [
    "# from tensorflow.examples.tutorials.mnist import input_data\n",
    "# mnist = input_data.read_data_sets('MNIST_data', validation_size=0)\n",
    "f = open('data/md_0_seg.txt','r')\n",
    "input_data = f.readlines()\n",
    "\n",
    "for i in range(1,100):\n",
    "    f = open('data/md_'+str(i)+'_seg.txt','r')\n",
    "    input_data = np.concatenate([input_data,f.readlines()],0)\n",
    "\n",
    "# input_data = np.concatenate([input_data0,input_data1,input_data2],0)\n",
    "print(np.shape(input_data))\n",
    "# print(input_data[1000])\n",
    "input_data = [[float(line.split(' ')[1]),float(line.split(' ')[2]),float(line.split(' ')[3])] for line in input_data]\n",
    "print(np.shape(input_data))"
   ]
  },
  {
   "cell_type": "code",
   "execution_count": 3,
   "metadata": {},
   "outputs": [],
   "source": [
    "data = np.reshape(input_data,[10000,1000,3])"
   ]
  },
  {
   "cell_type": "code",
   "execution_count": 4,
   "metadata": {},
   "outputs": [
    {
     "name": "stdout",
     "output_type": "stream",
     "text": [
      "(10000, 1000, 3)\n"
     ]
    }
   ],
   "source": [
    "print(np.shape(data))"
   ]
  },
  {
   "cell_type": "code",
   "execution_count": 12,
   "metadata": {
    "scrolled": true
   },
   "outputs": [
    {
     "name": "stdout",
     "output_type": "stream",
     "text": [
      "Tensor(\"conv2d_3/Relu:0\", shape=(?, 100, 30, 8), dtype=float32)\n",
      "Tensor(\"max_pooling2d_3/MaxPool:0\", shape=(?, 50, 15, 8), dtype=float32)\n",
      "Tensor(\"conv2d_4/Relu:0\", shape=(?, 50, 15, 16), dtype=float32)\n",
      "Tensor(\"max_pooling2d_4/MaxPool:0\", shape=(?, 10, 3, 16), dtype=float32)\n",
      "Tensor(\"conv2d_5/Relu:0\", shape=(?, 10, 3, 32), dtype=float32)\n",
      "Tensor(\"max_pooling2d_5/MaxPool:0\", shape=(?, 5, 2, 32), dtype=float32)\n",
      "Tensor(\"ResizeNearestNeighbor_3:0\", shape=(?, 10, 3, 32), dtype=float32)\n",
      "Tensor(\"conv2d_transpose_3/Relu:0\", shape=(?, 10, 3, 16), dtype=float32)\n",
      "Tensor(\"ResizeNearestNeighbor_4:0\", shape=(?, 50, 15, 16), dtype=float32)\n",
      "Tensor(\"conv2d_transpose_5/Relu:0\", shape=(?, 100, 30, 1), dtype=float32)\n",
      "Tensor(\"Placeholder_3:0\", shape=(?, 100, 30, 1), dtype=float32)\n",
      "Tensor(\"conv2d_transpose_5/Relu:0\", shape=(?, 100, 30, 1), dtype=float32)\n"
     ]
    }
   ],
   "source": [
    "learning_rate = 0.000003\n",
    "# Input and target placeholders\n",
    "inputs_ = tf.placeholder(tf.float32, [None, 100,30,1])\n",
    "targets_ = tf.placeholder(tf.float32, [None, 100,30,1])\n",
    "\n",
    "### Encoder\n",
    "# stride = 1, padding = same doesn't change the height and width \n",
    "conv1 = tf.layers.conv2d(inputs_, filters=8,kernel_size=[2,2],strides=(1, 1),padding='same', activation=tf.nn.relu)\n",
    "print(conv1)\n",
    "# Now 28x28x16 100 30 8\n",
    "maxpool1 = tf.layers.max_pooling2d(conv1,pool_size=[2,2],strides=2,padding='same',name=None) # stride cut the size\n",
    "print(maxpool1)\n",
    "# Now 14x14x16 50 15 8\n",
    "conv2 = tf.layers.conv2d(maxpool1, filters=16,kernel_size=[2,2],strides=(1, 1),padding='same', activation=tf.nn.relu)\n",
    "print(conv2)\n",
    "# Now 14x14x8 50 15 16\n",
    "maxpool2 = tf.layers.max_pooling2d(conv2,pool_size=[2,2],strides=5,padding='same',name=None)\n",
    "print(maxpool2)\n",
    "encoded = maxpool2\n",
    "# Now 7x7x8 10 3 16\n",
    "conv3 = tf.layers.conv2d(maxpool2, filters=32,kernel_size=[2,2],strides=(1, 1),padding='same', activation=tf.nn.relu)\n",
    "print(conv3)\n",
    "# Now 7x7x8 10 3 32\n",
    "encoded = tf.layers.max_pooling2d(conv3,pool_size=[2,2],strides=2,padding='same',name=None)\n",
    "print(encoded)\n",
    "# Now 4x4x8 5 2 32\n",
    "\n",
    "### Decoder\n",
    "upsample1 = tf.image.resize_nearest_neighbor(encoded,[10,3])\n",
    "print(upsample1)\n",
    "# Now 7x7x8 10 3 32\n",
    "# upsample1 = encoded\n",
    "conv4 = tf.layers.conv2d_transpose(upsample1,filters=16, kernel_size=[2,2],strides=(1,1),padding='same', activation=tf.nn.relu)\n",
    "print(conv4)\n",
    "# Now 7x7x8 10 3 16\n",
    "upsample2 = tf.image.resize_nearest_neighbor(conv4,[50,15])\n",
    "print(upsample2)\n",
    "# Now 14x14x8 50 15 16\n",
    "conv5 = tf.layers.conv2d_transpose(upsample2,filters=8, kernel_size=[2,2],strides=(1,1),padding='same', activation=tf.nn.relu)\n",
    "# Now 14x14x8 50 15 8\n",
    "upsample3 = tf.image.resize_nearest_neighbor(conv5,[100,30])\n",
    "# Now 28x28x8 100 30 8\n",
    "conv6 = tf.layers.conv2d_transpose(upsample3,filters=1, kernel_size=[2,2],strides=(1,1),padding='same', activation=tf.nn.relu)\n",
    "# Now 28x28x16 100 30 1\n",
    "print(conv6)\n",
    "\n",
    "logits = conv6\n",
    "# logits = tf.layers.conv2d_transpose(conv6,filters=1, kernel_size=[3,3],strides=(1,1),padding='same',activation=None)\n",
    "#Now 28x28x1 100 30 1\n",
    "# print(logits)\n",
    "\n",
    "# Pass logits through sigmoid to get reconstructed image\n",
    "decoded = tf.nn.sigmoid(logits)\n",
    "\n",
    "# # Pass logits through sigmoid and calculate the cross-entropy loss\n",
    "# loss = tf.nn.sigmoid_cross_entropy_with_logits(labels=targets_, logits=logits)\n",
    "print(targets_)\n",
    "print(logits)\n",
    "error = tf.reduce_mean(tf.pow(targets_-logits,2), name='mean_squared_error')\n",
    "# Get cost and define the optimizer\n",
    "# cost = tf.reduce_mean(loss)\n",
    "cost = error\n",
    "opt = tf.train.AdamOptimizer(learning_rate).minimize(cost)"
   ]
  },
  {
   "cell_type": "markdown",
   "metadata": {},
   "source": [
    "## Training"
   ]
  },
  {
   "cell_type": "code",
   "execution_count": 13,
   "metadata": {},
   "outputs": [],
   "source": [
    "sess = tf.Session()"
   ]
  },
  {
   "cell_type": "code",
   "execution_count": 14,
   "metadata": {},
   "outputs": [],
   "source": [
    "epochs = 10000\n",
    "sess.run(tf.global_variables_initializer())"
   ]
  },
  {
   "cell_type": "code",
   "execution_count": 22,
   "metadata": {},
   "outputs": [
    {
     "name": "stdout",
     "output_type": "stream",
     "text": [
      "Epoch: 1/10000... Training loss: 38.2311\n",
      "Epoch: 101/10000... Training loss: 37.9270\n",
      "Epoch: 201/10000... Training loss: 37.8434\n",
      "Epoch: 301/10000... Training loss: 37.9390\n",
      "Epoch: 401/10000... Training loss: 38.0352\n",
      "Epoch: 501/10000... Training loss: 38.1391\n",
      "Epoch: 601/10000... Training loss: 38.2145\n",
      "Epoch: 701/10000... Training loss: 38.3118\n",
      "Epoch: 801/10000... Training loss: 38.4479\n",
      "Epoch: 901/10000... Training loss: 38.3552\n",
      "Epoch: 1001/10000... Training loss: 38.3857\n",
      "Epoch: 1101/10000... Training loss: 38.2398\n",
      "Epoch: 1201/10000... Training loss: 38.2091\n",
      "Epoch: 1301/10000... Training loss: 38.1284\n",
      "Epoch: 1401/10000... Training loss: 38.1549\n",
      "Epoch: 1501/10000... Training loss: 38.2092\n",
      "Epoch: 1601/10000... Training loss: 38.3691\n",
      "Epoch: 1701/10000... Training loss: 38.3433\n",
      "Epoch: 1801/10000... Training loss: 38.3005\n",
      "Epoch: 1901/10000... Training loss: 38.3243\n",
      "Epoch: 2001/10000... Training loss: 38.2686\n",
      "Epoch: 2101/10000... Training loss: 38.1310\n",
      "Epoch: 2201/10000... Training loss: 37.9162\n",
      "Epoch: 2301/10000... Training loss: 37.7472\n",
      "Epoch: 2401/10000... Training loss: 37.8242\n",
      "Epoch: 2501/10000... Training loss: 37.6893\n",
      "Epoch: 2601/10000... Training loss: 37.6159\n",
      "Epoch: 2701/10000... Training loss: 37.6177\n",
      "Epoch: 2801/10000... Training loss: 37.5635\n",
      "Epoch: 2901/10000... Training loss: 37.4904\n",
      "Epoch: 3001/10000... Training loss: 37.2697\n",
      "Epoch: 3101/10000... Training loss: 37.2201\n",
      "Epoch: 3201/10000... Training loss: 37.3271\n",
      "Epoch: 3301/10000... Training loss: 37.3282\n",
      "Epoch: 3401/10000... Training loss: 37.3539\n",
      "Epoch: 3501/10000... Training loss: 37.4063\n",
      "Epoch: 3601/10000... Training loss: 37.3419\n",
      "Epoch: 3701/10000... Training loss: 37.2994\n",
      "Epoch: 3801/10000... Training loss: 37.2070\n",
      "Epoch: 3901/10000... Training loss: 37.2051\n",
      "Epoch: 4001/10000... Training loss: 37.1296\n",
      "Epoch: 4101/10000... Training loss: 37.2559\n",
      "Epoch: 4201/10000... Training loss: 37.3366\n",
      "Epoch: 4301/10000... Training loss: 37.2826\n",
      "Epoch: 4401/10000... Training loss: 37.1247\n",
      "Epoch: 4501/10000... Training loss: 36.9789\n",
      "Epoch: 4601/10000... Training loss: 37.0711\n",
      "Epoch: 4701/10000... Training loss: 37.1535\n",
      "Epoch: 4801/10000... Training loss: 37.1086\n",
      "Epoch: 4901/10000... Training loss: 37.1190\n",
      "Epoch: 5001/10000... Training loss: 37.1115\n",
      "Epoch: 5101/10000... Training loss: 37.0986\n",
      "Epoch: 5201/10000... Training loss: 37.0707\n",
      "Epoch: 5301/10000... Training loss: 37.1370\n",
      "Epoch: 5401/10000... Training loss: 37.0466\n",
      "Epoch: 5501/10000... Training loss: 36.8875\n",
      "Epoch: 5601/10000... Training loss: 36.7765\n",
      "Epoch: 5701/10000... Training loss: 36.7412\n",
      "Epoch: 5801/10000... Training loss: 36.6761\n",
      "Epoch: 5901/10000... Training loss: 36.7713\n",
      "Epoch: 6001/10000... Training loss: 36.9138\n",
      "Epoch: 6101/10000... Training loss: 36.9395\n",
      "Epoch: 6201/10000... Training loss: 36.9852\n",
      "Epoch: 6301/10000... Training loss: 37.1737\n",
      "Epoch: 6401/10000... Training loss: 37.2904\n",
      "Epoch: 6501/10000... Training loss: 37.2126\n",
      "Epoch: 6601/10000... Training loss: 37.0729\n",
      "Epoch: 6701/10000... Training loss: 36.9752\n",
      "Epoch: 6801/10000... Training loss: 36.8988\n",
      "Epoch: 6901/10000... Training loss: 36.7688\n",
      "Epoch: 7001/10000... Training loss: 36.7392\n",
      "Epoch: 7101/10000... Training loss: 36.8969\n",
      "Epoch: 7201/10000... Training loss: 37.0487\n",
      "Epoch: 7301/10000... Training loss: 37.1696\n",
      "Epoch: 7401/10000... Training loss: 37.2659\n",
      "Epoch: 7501/10000... Training loss: 37.3048\n",
      "Epoch: 7601/10000... Training loss: 37.2418\n",
      "Epoch: 7701/10000... Training loss: 37.1265\n",
      "Epoch: 7801/10000... Training loss: 36.8637\n",
      "Epoch: 7901/10000... Training loss: 36.8844\n",
      "Epoch: 8001/10000... Training loss: 36.8497\n",
      "Epoch: 8101/10000... Training loss: 36.9302\n",
      "Epoch: 8201/10000... Training loss: 37.1182\n",
      "Epoch: 8301/10000... Training loss: 37.2404\n",
      "Epoch: 8401/10000... Training loss: 37.4433\n",
      "Epoch: 8501/10000... Training loss: 37.6286\n",
      "Epoch: 8601/10000... Training loss: 37.6834\n",
      "Epoch: 8701/10000... Training loss: 37.6963\n",
      "Epoch: 8801/10000... Training loss: 37.6658\n",
      "Epoch: 8901/10000... Training loss: 37.6829\n",
      "Epoch: 9001/10000... Training loss: 37.7213\n",
      "Epoch: 9101/10000... Training loss: 37.7383\n",
      "Epoch: 9201/10000... Training loss: 37.7331\n",
      "Epoch: 9301/10000... Training loss: 37.6833\n",
      "Epoch: 9401/10000... Training loss: 37.5945\n",
      "Epoch: 9501/10000... Training loss: 37.6547\n",
      "Epoch: 9601/10000... Training loss: 37.6867\n",
      "Epoch: 9701/10000... Training loss: 37.6905\n",
      "Epoch: 9801/10000... Training loss: 37.6335\n",
      "Epoch: 9901/10000... Training loss: 37.4935\n"
     ]
    }
   ],
   "source": [
    "for e in range(epochs):\n",
    "#     for ii in range(mnist.train.num_examples//batch_size):\n",
    "#         batch = mnist.train.next_batch(batch_size)\n",
    "    imgs = data[e].reshape((-1, 100, 30, 1))\n",
    "    imgs = np.multiply(imgs,10)\n",
    "#     print(np.shape(imgs))\n",
    "    batch_cost, _ = sess.run([cost, opt], feed_dict={inputs_: imgs,\n",
    "                                                     targets_: imgs})\n",
    "    if(e % 100 == 0):\n",
    "        print(\"Epoch: {}/{}...\".format(e+1, epochs),\"Training loss: {:.4f}\".format(batch_cost))"
   ]
  },
  {
   "cell_type": "code",
   "execution_count": 23,
   "metadata": {},
   "outputs": [
    {
     "data": {
      "image/png": "[encoded data removed]",
      "text/plain": [
       "<Figure size 720x576 with 20 Axes>"
      ]
     },
     "metadata": {},
     "output_type": "display_data"
    }
   ],
   "source": [
    "fig, axes = plt.subplots(nrows=2, ncols=10, sharex=True, sharey=True, figsize=(10,8))\n",
    "# in_imgs = mnist.test.images[:10]\n",
    "in_imgs = data[0:10]\n",
    "reconstructed = sess.run(decoded, feed_dict={inputs_: in_imgs.reshape((10, 100, 30, 1))})\n",
    "\n",
    "for images, row in zip([in_imgs, reconstructed], axes):\n",
    "    for img, ax in zip(images, row):\n",
    "        ax.imshow(img.reshape((100, 30)), cmap='Greys_r')\n",
    "        ax.get_xaxis().set_visible(False)\n",
    "        ax.get_yaxis().set_visible(False)\n",
    "\n",
    "\n",
    "fig.tight_layout(pad=0.1)"
   ]
  },
  {
   "cell_type": "code",
   "execution_count": 10,
   "metadata": {},
   "outputs": [],
   "source": [
    "# sess.close()"
   ]
  },
  {
   "cell_type": "code",
   "execution_count": 11,
   "metadata": {},
   "outputs": [
    {
     "name": "stdout",
     "output_type": "stream",
     "text": [
      "(10, 100, 30, 1)\n"
     ]
    }
   ],
   "source": [
    "print(np.shape(reconstructed))"
   ]
  },
  {
   "cell_type": "code",
   "execution_count": null,
   "metadata": {
    "collapsed": true
   },
   "outputs": [],
   "source": []
  },
  {
   "cell_type": "code",
   "execution_count": null,
   "metadata": {
    "collapsed": true
   },
   "outputs": [],
   "source": []
  }
 ],
 "metadata": {
  "kernelspec": {
   "display_name": "Python 3",
   "language": "python",
   "name": "python3"
  },
  "language_info": {
   "codemirror_mode": {
    "name": "ipython",
    "version": 3
   },
   "file_extension": ".py",
   "mimetype": "text/x-python",
   "name": "python",
   "nbconvert_exporter": "python",
   "pygments_lexer": "ipython3",
   "version": "3.6.5"
  }
 },
 "nbformat": 4,
 "nbformat_minor": 2
}
