{
 "cells": [
  {
   "cell_type": "code",
   "execution_count": 4,
   "metadata": {},
   "outputs": [],
   "source": [
    "from __future__ import division, print_function, absolute_import\n",
    "import scipy.stats as st\n",
    "import math\n",
    "import itertools\n",
    "# import adios as ad # not installed on mac\n",
    "import numpy as np\n",
    "import sys\n",
    "import tensorflow as tf\n",
    "import matplotlib.pyplot as plt\n",
    "import random\n",
    "import time\n",
    "import os\n",
    "\n",
    "# Training Parameters\n",
    "learning_rate = 0.01\n",
    "# num_steps = 10\n",
    "num_steps = 25\n",
    "# batch_size = 10\n",
    "\n",
    "# display_step = 1000\n",
    "display_step = 10\n",
    "# examples_to_show = 10\n",
    "\n",
    "# Network Parameters\n",
    "num_hidden_1 = 812 # 1st layer num features\n",
    "num_hidden_2 = 512 # 2nd layer num features (the latent dim)\n",
    "\n",
    "# gromacs\n",
    "# num_input = 33876*3\n",
    "# num_input = 33876 \n",
    "data_path = \"./md_0_2_new_0\"\n",
    "\n",
    "# mnist \n",
    "num_input = 500\n"
   ]
  },
  {
   "cell_type": "code",
   "execution_count": 5,
   "metadata": {},
   "outputs": [],
   "source": [
    "def minibatch(fname,data_path,d):\n",
    "    # set d as number of input for testing.\n",
    "    # output batch will have size of [10*f*1]\n",
    "    with open(os.path.join(data_path,fname)) as f:\n",
    "        data = f.readlines()\n",
    "\n",
    "    data = [line.split(\" \")[1:4] for line in data]\n",
    "    data = [[float(num) for num in line] for line in data]\n",
    "    #print(data[0])\n",
    "    #print(np.shape(data))\n",
    "\n",
    "    # for the 3rd dimension, : for 3d, 0/1/2 for 1d\n",
    "    batch = np.reshape(data,[10,33876,3],order='c')[:,0:d,0]\n",
    "    print(np.shape(batch))\n",
    "    return batch"
   ]
  },
  {
   "cell_type": "code",
   "execution_count": 8,
   "metadata": {},
   "outputs": [
    {
     "name": "stdout",
     "output_type": "stream",
     "text": [
      "INFO:tensorflow:Restoring parameters from ./my-model/mark-2-0\n"
     ]
    },
    {
     "ename": "NameError",
     "evalue": "name 'y_true' is not defined",
     "output_type": "error",
     "traceback": [
      "\u001b[0;31m---------------------------------------------------------------------------\u001b[0m",
      "\u001b[0;31mNameError\u001b[0m                                 Traceback (most recent call last)",
      "\u001b[0;32m<ipython-input-8-8d73fd7d151d>\u001b[0m in \u001b[0;36m<module>\u001b[0;34m()\u001b[0m\n\u001b[1;32m      4\u001b[0m     \u001b[0msaver\u001b[0m \u001b[0;34m=\u001b[0m \u001b[0mtf\u001b[0m\u001b[0;34m.\u001b[0m\u001b[0mtrain\u001b[0m\u001b[0;34m.\u001b[0m\u001b[0mimport_meta_graph\u001b[0m\u001b[0;34m(\u001b[0m\u001b[0;34m'./my-model/mark-2-0.meta'\u001b[0m\u001b[0;34m)\u001b[0m\u001b[0;34m\u001b[0m\u001b[0m\n\u001b[1;32m      5\u001b[0m     \u001b[0msaver\u001b[0m\u001b[0;34m.\u001b[0m\u001b[0mrestore\u001b[0m\u001b[0;34m(\u001b[0m\u001b[0msess\u001b[0m\u001b[0;34m,\u001b[0m\u001b[0mtf\u001b[0m\u001b[0;34m.\u001b[0m\u001b[0mtrain\u001b[0m\u001b[0;34m.\u001b[0m\u001b[0mlatest_checkpoint\u001b[0m\u001b[0;34m(\u001b[0m\u001b[0;34m'./my-model'\u001b[0m\u001b[0;34m)\u001b[0m\u001b[0;34m)\u001b[0m\u001b[0;34m\u001b[0m\u001b[0m\n\u001b[0;32m----> 6\u001b[0;31m     \u001b[0mloss\u001b[0m \u001b[0;34m=\u001b[0m \u001b[0mtf\u001b[0m\u001b[0;34m.\u001b[0m\u001b[0mreduce_mean\u001b[0m\u001b[0;34m(\u001b[0m\u001b[0mtf\u001b[0m\u001b[0;34m.\u001b[0m\u001b[0mpow\u001b[0m\u001b[0;34m(\u001b[0m\u001b[0my_true\u001b[0m \u001b[0;34m-\u001b[0m \u001b[0my_pred\u001b[0m\u001b[0;34m,\u001b[0m \u001b[0;36m2\u001b[0m\u001b[0;34m)\u001b[0m\u001b[0;34m)\u001b[0m\u001b[0;34m\u001b[0m\u001b[0m\n\u001b[0m\u001b[1;32m      7\u001b[0m     \u001b[0;31m# just some test to reconstruct the images\u001b[0m\u001b[0;34m\u001b[0m\u001b[0;34m\u001b[0m\u001b[0m\n\u001b[1;32m      8\u001b[0m \u001b[0;34m\u001b[0m\u001b[0m\n",
      "\u001b[0;31mNameError\u001b[0m: name 'y_true' is not defined"
     ]
    }
   ],
   "source": [
    "\n",
    "with tf.Session() as sess:  \n",
    "    #First let's load meta graph and restore weights\n",
    "    saver = tf.train.import_meta_graph('./my-model/mark-2-0.meta')\n",
    "    saver.restore(sess,tf.train.latest_checkpoint('./my-model'))\n",
    "    # just some test to reconstruct the images\n",
    "\n",
    "    for i in range(25,30):\n",
    "        fname = \"md_0_2_new.\"+str(i)\n",
    "        test_batch =  minibatch(fname,data_path,num_input)\n",
    "        for j in range(0,10):\n",
    "            los = sess.run(loss, feed_dict={X:np.reshape(train_batch[j],[-1,num_input])})\n",
    "            print('Step %i: Validation Loss: %f' % (i, los))"
   ]
  },
  {
   "cell_type": "code",
   "execution_count": null,
   "metadata": {},
   "outputs": [],
   "source": []
  },
  {
   "cell_type": "code",
   "execution_count": null,
   "metadata": {},
   "outputs": [],
   "source": []
  }
 ],
 "metadata": {
  "kernelspec": {
   "display_name": "Python 3",
   "language": "python",
   "name": "python3"
  },
  "language_info": {
   "codemirror_mode": {
    "name": "ipython",
    "version": 3
   },
   "file_extension": ".py",
   "mimetype": "text/x-python",
   "name": "python",
   "nbconvert_exporter": "python",
   "pygments_lexer": "ipython3",
   "version": "3.6.4"
  }
 },
 "nbformat": 4,
 "nbformat_minor": 2
}
