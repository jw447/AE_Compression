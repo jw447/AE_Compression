{
 "cells": [
  {
   "cell_type": "markdown",
   "metadata": {},
   "source": [
    "# AutoEncoder for Scientific Data Reduction\n",
    "-----------------------------------------------------------------\n",
    "\n",
    "## Second Prototye - Mark II"
   ]
  },
  {
   "cell_type": "markdown",
   "metadata": {},
   "source": [
    "### Updated on June 15th\n",
    "\n",
    "- Refer to TF_code to revise the model;\n",
    "- Add default graph to make sure restored model can have all the trained variables;\n",
    "- Data handling: txt --> minibatch\n",
    "- Make sure global step is correct\n",
    "- Loss and Reconstruction Visualization\n"
   ]
  },
  {
   "cell_type": "code",
   "execution_count": 1,
   "metadata": {
    "collapsed": true
   },
   "outputs": [],
   "source": [
    "from __future__ import division, print_function, absolute_import\n",
    "import scipy.stats as st\n",
    "import math\n",
    "import itertools\n",
    "# import adios as ad # not installed on mac\n",
    "import numpy as np\n",
    "import sys\n",
    "import tensorflow as tf\n",
    "import matplotlib.pyplot as plt\n",
    "import random\n",
    "import time\n",
    "import os\n",
    "\n",
    "# Training Parameters\n",
    "learning_rate = 0.01\n",
    "# num_steps = 10\n",
    "num_steps = 900\n",
    "# batch_size = 10\n",
    "\n",
    "# display_step = 1000\n",
    "display_step = 10\n",
    "# examples_to_show = 10\n",
    "\n",
    "# Network Parameters\n",
    "num_hidden_1 = 512 # 1st layer num features\n",
    "num_hidden_2 = 256 # 2nd layer num features (the latent dim)\n",
    "\n",
    "# gromacs\n",
    "# num_input = 33876*3\n",
    "# num_input = 33876 \n",
    "data_path = \"./data\"\n",
    "\n",
    "# mnist \n",
    "num_input = 1000\n",
    "\n",
    "global_step = tf.train.get_or_create_global_step()"
   ]
  },
  {
   "cell_type": "code",
   "execution_count": 2,
   "metadata": {
    "collapsed": true
   },
   "outputs": [],
   "source": [
    "# Gromacs data\n",
    "def minibatch(fname,data_path,d):\n",
    "    # set d as number of input for testing.\n",
    "    # output batch will have size of [10*f*1]\n",
    "    with open(os.path.join(data_path,fname)) as f:\n",
    "        data = f.readlines()\n",
    "\n",
    "    data = [line.split(\" \")[1:4] for line in data]\n",
    "    data = [[float(num) for num in line] for line in data]\n",
    "    #print(data[0])\n",
    "    #print(np.shape(data))\n",
    "\n",
    "    # for the 3rd dimension, : for 3d, 0/1/2 for 1d\n",
    "    batch_0 = np.reshape(data,[300,33876,3],order='c')[:,0:d,0]\n",
    "    batch_1 = np.reshape(data,[300,33876,3],order='c')[:,0:d,1]\n",
    "    batch_2 = np.reshape(data,[300,33876,3],order='c')[:,0:d,2]\n",
    "    batch = np.concatenate((batch_0,batch_1,batch_2))\n",
    "    print(np.shape(batch))\n",
    "    return batch"
   ]
  },
  {
   "cell_type": "code",
   "execution_count": 3,
   "metadata": {
    "collapsed": true
   },
   "outputs": [
    {
     "ename": "FileNotFoundError",
     "evalue": "[Errno 2] No such file or directory: './data/md_0_2_new_0.txt'",
     "output_type": "error",
     "traceback": [
      "\u001b[0;31m---------------------------------------------------------------------------\u001b[0m",
      "\u001b[0;31mFileNotFoundError\u001b[0m                         Traceback (most recent call last)",
      "\u001b[0;32m<ipython-input-3-c3ae82ce6cba>\u001b[0m in \u001b[0;36m<module>\u001b[0;34m()\u001b[0m\n\u001b[0;32m----> 1\u001b[0;31m \u001b[0mtrain_batch\u001b[0m \u001b[0;34m=\u001b[0m \u001b[0mminibatch\u001b[0m\u001b[0;34m(\u001b[0m\u001b[0;34m'md_0_2_new_0.txt'\u001b[0m\u001b[0;34m,\u001b[0m\u001b[0mdata_path\u001b[0m\u001b[0;34m,\u001b[0m\u001b[0mnum_input\u001b[0m\u001b[0;34m)\u001b[0m\u001b[0;34m\u001b[0m\u001b[0m\n\u001b[0m\u001b[1;32m      2\u001b[0m \u001b[0mnp\u001b[0m\u001b[0;34m.\u001b[0m\u001b[0mshape\u001b[0m\u001b[0;34m(\u001b[0m\u001b[0mtrain_batch\u001b[0m\u001b[0;34m)\u001b[0m\u001b[0;34m\u001b[0m\u001b[0m\n",
      "\u001b[0;32m<ipython-input-2-982ffe283419>\u001b[0m in \u001b[0;36mminibatch\u001b[0;34m(fname, data_path, d)\u001b[0m\n\u001b[1;32m      3\u001b[0m     \u001b[0;31m# set d as number of input for testing.\u001b[0m\u001b[0;34m\u001b[0m\u001b[0;34m\u001b[0m\u001b[0m\n\u001b[1;32m      4\u001b[0m     \u001b[0;31m# output batch will have size of [10*f*1]\u001b[0m\u001b[0;34m\u001b[0m\u001b[0;34m\u001b[0m\u001b[0m\n\u001b[0;32m----> 5\u001b[0;31m     \u001b[0;32mwith\u001b[0m \u001b[0mopen\u001b[0m\u001b[0;34m(\u001b[0m\u001b[0mos\u001b[0m\u001b[0;34m.\u001b[0m\u001b[0mpath\u001b[0m\u001b[0;34m.\u001b[0m\u001b[0mjoin\u001b[0m\u001b[0;34m(\u001b[0m\u001b[0mdata_path\u001b[0m\u001b[0;34m,\u001b[0m\u001b[0mfname\u001b[0m\u001b[0;34m)\u001b[0m\u001b[0;34m)\u001b[0m \u001b[0;32mas\u001b[0m \u001b[0mf\u001b[0m\u001b[0;34m:\u001b[0m\u001b[0;34m\u001b[0m\u001b[0m\n\u001b[0m\u001b[1;32m      6\u001b[0m         \u001b[0mdata\u001b[0m \u001b[0;34m=\u001b[0m \u001b[0mf\u001b[0m\u001b[0;34m.\u001b[0m\u001b[0mreadlines\u001b[0m\u001b[0;34m(\u001b[0m\u001b[0;34m)\u001b[0m\u001b[0;34m\u001b[0m\u001b[0m\n\u001b[1;32m      7\u001b[0m \u001b[0;34m\u001b[0m\u001b[0m\n",
      "\u001b[0;31mFileNotFoundError\u001b[0m: [Errno 2] No such file or directory: './data/md_0_2_new_0.txt'"
     ]
    }
   ],
   "source": [
    "train_batch = minibatch('md_0_2_new_0.txt',data_path,num_input)\n",
    "np.shape(train_batch)"
   ]
  },
  {
   "cell_type": "code",
   "execution_count": null,
   "metadata": {
    "collapsed": true
   },
   "outputs": [],
   "source": [
    "# g = tf.Graph()\n",
    "# with g.as_default():\n",
    "X = tf.placeholder(\"float\", [None, num_input])\n",
    "\n",
    "weights = {\n",
    "    'encoder_h1': tf.Variable(tf.random_normal([num_input, num_hidden_1])),\n",
    "    'encoder_h2': tf.Variable(tf.random_normal([num_hidden_1, num_hidden_2])),\n",
    "    'decoder_h1': tf.Variable(tf.random_normal([num_hidden_2, num_hidden_1])),\n",
    "    'decoder_h2': tf.Variable(tf.random_normal([num_hidden_1, num_input]))\n",
    "}\n",
    "biases = {\n",
    "    'encoder_b1': tf.Variable(tf.random_normal([num_hidden_1])),\n",
    "    'encoder_b2': tf.Variable(tf.random_normal([num_hidden_2])),\n",
    "    'decoder_b1': tf.Variable(tf.random_normal([num_hidden_1])),\n",
    "    'decoder_b2': tf.Variable(tf.random_normal([num_input]))\n",
    "}\n",
    "\n",
    "# Building the encoder\n",
    "def encoder(x):\n",
    "    layer_1 = tf.nn.sigmoid(tf.add(tf.matmul(x, weights['encoder_h1']),biases['encoder_b1']))\n",
    "    layer_2 = tf.nn.sigmoid(tf.add(tf.matmul(layer_1, weights['encoder_h2']),biases['encoder_b2']))\n",
    "    return layer_2\n",
    "\n",
    "# Building the decoder\n",
    "def decoder(x):\n",
    "    layer_1 = tf.nn.sigmoid(tf.add(tf.matmul(x, weights['decoder_h1']),biases['decoder_b1']))\n",
    "    layer_2 = tf.nn.sigmoid(tf.add(tf.matmul(layer_1, weights['decoder_h2']),biases['decoder_b2']))\n",
    "    return layer_2\n",
    "\n",
    "# Construct model\n",
    "encoder_op = encoder(X)\n",
    "decoder_op = decoder(encoder_op)\n",
    "\n",
    "# Prediction\n",
    "y_pred = decoder_op\n",
    "y_true = X\n",
    "\n",
    "# Define loss and optimizer, minimize the squared error\n",
    "loss = tf.reduce_mean(tf.pow(y_true - y_pred, 2)) # relative loss\n",
    "optimizer = tf.train.RMSPropOptimizer(learning_rate).minimize(loss)\n",
    "l_sum = tf.summary.scalar('loss',loss)\n",
    "w1 = tf.summary.tensor_summary('weights_eh1',weights['encoder_h1'])\n",
    "w2 = tf.summary.tensor_summary('weights_eh2',weights['encoder_h2'])\n",
    "w3 = tf.summary.tensor_summary('weights_dh1',weights['decoder_h1'])\n",
    "w4 = tf.summary.tensor_summary('weights_dh2',weights['decoder_h2'])\n",
    "\n",
    "# Initialize the variables\n",
    "init = tf.global_variables_initializer()\n",
    "saver = tf.train.Saver()\n",
    "\n",
    "# Start Training\n",
    "# Start a new TF session\n",
    "with tf.Session() as sess:\n",
    "    sess.run(init)\n",
    "    merged = tf.summary.merge([l_sum,w1,w2,w3,w4])\n",
    "    writer = tf.summary.FileWriter('./graph', sess.graph)\n",
    "    # Run the initializer\n",
    "    saver.save(sess,'./my-model/mark-2',global_step = global_step)\n",
    "    # Training\n",
    "    train_batch = minibatch('md_0_2_new_0.txt',data_path,num_input)\n",
    "    for i in range(0, num_steps):\n",
    "#         fname = \"md_0_2_new.\"+str(i)\n",
    "        \n",
    "#         train_batch =  minibatch(fname,data_path,num_input)\n",
    "#         for j in range(0,10):\n",
    "        summary, _, l = sess.run([merged, optimizer, loss], feed_dict={X:np.reshape(train_batch[i],[-1,num_input])})\n",
    "        writer.add_summary(summary,i)\n",
    "        print('Step %i: Minibatch Loss: %f' % (i, l))\n",
    "\n",
    "    # Testing\n",
    "#     for i in range(25,30):\n",
    "#         fname = \"md_0_2_new.\"+str(i)\n",
    "#         test_batch =  minibatch(fname,data_path,num_input)\n",
    "#         for j in range(0,10):\n",
    "#             los = sess.run(loss, feed_dict={X:np.reshape(train_batch[j],[-1,num_input])})\n",
    "#             print('Step %i: Validation Loss: %f' % (i, los))"
   ]
  },
  {
   "cell_type": "code",
   "execution_count": null,
   "metadata": {
    "collapsed": true
   },
   "outputs": [],
   "source": []
  },
  {
   "cell_type": "code",
   "execution_count": null,
   "metadata": {
    "collapsed": true
   },
   "outputs": [],
   "source": []
  },
  {
   "cell_type": "code",
   "execution_count": null,
   "metadata": {
    "collapsed": true
   },
   "outputs": [],
   "source": []
  },
  {
   "cell_type": "code",
   "execution_count": null,
   "metadata": {
    "collapsed": true
   },
   "outputs": [],
   "source": []
  },
  {
   "cell_type": "code",
   "execution_count": 1,
   "metadata": {},
   "outputs": [],
   "source": [
    "import os\n",
    "import tensorflow as tf\n",
    "import numpy as np\n",
    "\n",
    "# data_dir = \"../data/GROMACS_data/\"\n",
    "\n",
    "# filenames = [os.path.join(data_dir,'md_0_2_new_%d.txt' % i) for i in range(0,4)]\n",
    "# # filenames = [os.path.join(data_dir,'test.txt')]\n",
    "             \n",
    "# filename_queue = tf.train.string_input_producer(filenames)\n",
    "# reader = tf.TextLineReader()\n",
    "\n",
    "# values = []\n",
    "# for i in range(0,300):\n",
    "#     values.append(reader.read(filename_queue)[1])\n",
    "\n",
    "# data = tf.decode_csv(values,[[1],[1.0],[1.0],[1.0]],field_delim=' ')"
   ]
  },
  {
   "cell_type": "code",
   "execution_count": 36,
   "metadata": {},
   "outputs": [
    {
     "data": {
      "text/plain": [
       "[<tf.Tensor 'DecodeCSV_8:0' shape=(300,) dtype=int32>,\n",
       " <tf.Tensor 'DecodeCSV_8:1' shape=(300,) dtype=float32>,\n",
       " <tf.Tensor 'DecodeCSV_8:2' shape=(300,) dtype=float32>,\n",
       " <tf.Tensor 'DecodeCSV_8:3' shape=(300,) dtype=float32>]"
      ]
     },
     "execution_count": 36,
     "metadata": {},
     "output_type": "execute_result"
    }
   ],
   "source": [
    "data"
   ]
  },
  {
   "cell_type": "code",
   "execution_count": 40,
   "metadata": {
    "collapsed": true
   },
   "outputs": [
    {
     "name": "stdout",
     "output_type": "stream",
     "text": [
      "[array([4.11252, 4.1275 , 4.13719, 4.16056, 4.10783, 4.2665 , 4.35712,\n",
      "       3.92583, 3.59225, 4.29996, 4.30642, 4.42061, 4.20973, 4.49416,\n",
      "       4.49173, 4.38675, 4.5556 , 4.50025, 4.216  , 4.29549, 4.08479,\n",
      "       4.01799, 4.0246 , 4.07355, 3.85189, 3.8746 , 3.8236 , 3.62844,\n",
      "       3.87002, 4.22495, 4.4469 , 4.32676, 4.38594, 4.52268, 4.26975,\n",
      "       4.41756, 4.39938, 4.1815 , 4.14966, 3.95461, 3.9137 , 3.96865,\n",
      "       3.6962 , 3.74129, 4.20561, 4.29785, 4.93228, 4.14651, 4.22313,\n",
      "       4.2571 , 4.22234, 4.36006, 4.34128, 4.38334, 4.30257, 4.50379,\n",
      "       4.52719, 3.93405, 4.00956, 4.06294, 3.86951, 3.72921, 3.82505,\n",
      "       3.63451, 3.80685, 3.7324 , 3.92416, 3.8114 , 4.09515, 3.93616,\n",
      "       3.88783, 4.40266, 4.25137, 4.04623, 4.03714, 4.43227, 4.09259,\n",
      "       4.22901, 4.52542, 4.44348, 4.9611 , 4.6216 , 4.36859, 4.4877 ,\n",
      "       4.25189, 4.30835, 4.3344 , 4.25574, 4.29178, 4.2333 , 4.32352,\n",
      "       4.33763, 4.34288, 4.25562, 4.19093, 4.25416, 4.22423, 4.2297 ,\n",
      "       4.03944, 3.99103, 3.96791, 4.02977, 3.77389, 3.80138, 3.88129,\n",
      "       3.71552, 3.78031, 3.87579, 3.75043, 3.70854, 3.83349, 3.67789,\n",
      "       3.58309, 3.67855, 3.66114, 3.70875, 3.63466, 3.755  , 3.92561,\n",
      "       3.82561, 3.68164, 3.77091, 3.8741 , 3.92408, 3.94916, 3.8147 ,\n",
      "       3.69128, 3.89584, 3.82346, 3.73577, 3.53668, 3.60948, 3.44757,\n",
      "       3.55261, 3.59299, 3.58366, 4.2855 , 3.60501, 4.37784, 3.86513,\n",
      "       3.75367, 3.69822, 3.92629, 3.4893 , 3.86727, 4.0163 , 3.77275,\n",
      "       3.92964, 3.86561, 3.38533, 3.9378 , 3.73952, 3.7241 , 3.73356,\n",
      "       3.604  , 3.5784 , 3.59516, 3.52758, 3.67026, 3.62404, 3.45082,\n",
      "       3.51455, 3.37851, 3.41873, 3.43883, 3.51791, 3.32662, 3.21132,\n",
      "       3.12321, 3.20177, 3.41849, 3.2456 , 3.59848, 3.83785, 3.43678,\n",
      "       3.92563, 3.93887, 3.56336, 4.01872, 3.97426, 3.53949, 4.06247,\n",
      "       3.5906 , 4.11435, 4.28179, 4.20498, 4.32901, 4.29938, 4.40131,\n",
      "       4.43515, 4.55008, 4.91982, 4.95911, 4.88004, 4.90198, 4.89588,\n",
      "       4.85094, 4.84958, 4.89496, 4.73387, 4.80574, 4.67706, 4.83005,\n",
      "       4.74415, 4.66759, 4.74108, 4.59608, 4.67872, 4.59787, 4.4692 ,\n",
      "       3.33171, 3.83827, 4.4211 , 4.49236, 4.41268, 4.54562, 4.44399,\n",
      "       4.5323 , 4.60871, 4.54084, 3.77919, 4.64803, 4.4605 , 4.54768,\n",
      "       4.34595, 4.36707, 4.28808, 4.21013, 4.24101, 4.12114, 3.91811,\n",
      "       4.04467, 3.8813 , 4.00939, 3.77698, 3.90128, 3.69517, 3.71931,\n",
      "       3.91805, 3.78432, 3.83237, 3.98504, 4.58163, 4.48887, 4.38587,\n",
      "       4.49581, 4.39903, 4.30929, 4.19845, 4.28668, 4.34901, 4.18865,\n",
      "       4.17683, 4.05754, 4.04691, 4.23792, 4.22217, 3.58943, 4.19311,\n",
      "       3.70437, 3.76058, 3.9239 , 4.00552, 4.14601, 4.00575, 4.22913,\n",
      "       4.34458, 4.37798, 4.42374, 4.41633, 4.50995, 4.48425, 4.43495,\n",
      "       4.47968, 4.58271, 4.41399, 3.83641, 4.38671, 4.24682, 4.14757,\n",
      "       4.16314, 4.19773, 3.97205, 4.04265, 3.972  , 3.94923, 4.00487,\n",
      "       3.98527, 4.07107, 3.92883, 3.61242, 4.02038, 3.61749, 3.66628,\n",
      "       3.96905, 3.81804, 3.8449 , 3.86177, 3.81792, 3.80594],\n",
      "      dtype=float32), array([3.41804, 2.29217, 2.56021, 2.60251, 2.56635, 2.69548, 2.67475,\n",
      "       2.20646, 3.76041, 2.68423, 2.57675, 2.76607, 2.71061, 2.77905,\n",
      "       2.7511 , 2.86504, 2.5886 , 2.69954, 2.83593, 2.92473, 2.85745,\n",
      "       2.97875, 2.78041, 3.06459, 2.91668, 2.97924, 3.12372, 3.02565,\n",
      "       2.71726, 2.7636 , 2.78092, 3.02958, 3.08156, 3.23329, 3.22433,\n",
      "       3.31671, 3.42685, 3.1998 , 3.4739 , 3.35017, 3.45863, 3.32808,\n",
      "       3.37051, 3.46835, 3.47675, 3.2301 , 3.10629, 3.27977, 3.24454,\n",
      "       3.27086, 3.32858, 2.9181 , 3.08371, 3.21074, 3.00002, 2.97022,\n",
      "       3.04377, 3.29376, 3.22262, 3.04174, 3.0177 , 3.05529, 3.55489,\n",
      "       2.88725, 2.97904, 2.77441, 2.93964, 3.04148, 3.19559, 2.91574,\n",
      "       2.98003, 3.05723, 3.02265, 3.0882 , 3.20981, 3.05103, 2.95669,\n",
      "       3.12166, 3.1073 , 2.89858, 3.08754, 3.6472 , 3.58069, 3.85065,\n",
      "       4.06514, 4.04585, 4.00863, 4.18397, 4.18012, 4.27753, 4.25705,\n",
      "       3.78489, 3.8903 , 3.68568, 3.67179, 3.60338, 3.58805, 3.75082,\n",
      "       3.68088, 3.79154, 3.5682 , 3.48914, 3.64864, 3.53206, 3.46598,\n",
      "       3.46594, 3.65688, 3.70921, 3.61473, 3.69842, 3.56909, 3.53416,\n",
      "       3.71603, 3.76191, 3.84171, 3.81902, 3.46823, 3.45724, 3.37478,\n",
      "       3.36114, 3.22214, 3.25093, 3.1382 , 3.12227, 3.15421, 3.00214,\n",
      "       2.98527, 2.91219, 3.31327, 3.30491, 3.34064, 3.34674, 3.37917,\n",
      "       3.39653, 3.31258, 3.21025, 3.22367, 3.55716, 3.27233, 2.78586,\n",
      "       2.76279, 3.31373, 2.70991, 3.31446, 2.60128, 2.74847, 2.57077,\n",
      "       2.51374, 2.63461, 3.24982, 2.72273, 2.60698, 2.49327, 2.71517,\n",
      "       2.55211, 2.61506, 2.40414, 2.57336, 2.35453, 2.39769, 2.35426,\n",
      "       3.39119, 2.41972, 2.3462 , 2.2238 , 2.18713, 2.1547 , 2.21176,\n",
      "       2.19372, 2.29066, 1.99602, 1.99569, 3.44462, 2.58936, 3.41435,\n",
      "       2.4888 , 2.41997, 3.54835, 2.47078, 2.50036, 3.61034, 2.32492,\n",
      "       3.61572, 2.3157 , 3.97598, 3.77959, 3.78819, 3.8277 , 3.78439,\n",
      "       3.64473, 3.59294, 3.03432, 3.33677, 3.42263, 3.3337 , 3.22998,\n",
      "       3.15789, 3.24047, 3.42809, 3.41265, 3.36566, 3.25213, 3.31729,\n",
      "       3.33799, 3.46002, 3.54003, 3.49987, 3.43205, 3.45491, 3.3036 ,\n",
      "       2.03678, 2.67748, 3.38514, 3.35571, 3.32632, 2.66278, 2.67295,\n",
      "       2.69843, 2.67684, 2.89642, 2.56481, 2.86517, 2.85693, 2.84301,\n",
      "       2.86078, 3.0822 , 3.08983, 3.26335, 3.34753, 3.04489, 3.01975,\n",
      "       2.90653, 2.97125, 2.85236, 2.90333, 3.02045, 2.74733, 2.82248,\n",
      "       2.85363, 3.07227, 2.91985, 3.09647, 2.95688, 2.88482, 2.99394,\n",
      "       3.13988, 3.12761, 3.07025, 3.08943, 3.13163, 3.31497, 3.47464,\n",
      "       3.2276 , 3.45667, 3.40978, 3.25416, 3.17301, 3.38457, 3.36804,\n",
      "       3.34044, 3.27742, 3.35044, 3.20175, 3.36985, 3.31031, 3.28263,\n",
      "       3.31933, 3.22511, 3.1402 , 3.21453, 3.076  , 2.68334, 3.01792,\n",
      "       2.78491, 2.82038, 2.84593, 3.08694, 2.87441, 2.84082, 2.91447,\n",
      "       3.00636, 2.60609, 2.73296, 2.66494, 2.73956, 2.80007, 2.88379,\n",
      "       2.88426, 3.08931, 2.94902, 3.09904, 2.98609, 3.19677, 3.10529,\n",
      "       3.1928 , 3.27628, 3.18793, 3.17649, 3.11984, 2.93641],\n",
      "      dtype=float32), array([2.93944, 4.08794, 4.1217 , 3.99724, 3.91905, 3.96366, 4.02059,\n",
      "       4.17691, 5.37363, 3.81489, 3.79795, 3.76876, 3.75972, 3.84815,\n",
      "       3.54387, 3.73812, 3.67338, 3.65743, 3.99347, 4.0235 , 3.98143,\n",
      "       4.0241 , 3.95608, 3.98635, 3.88469, 3.97102, 3.72862, 3.87392,\n",
      "       4.40592, 4.32989, 4.22262, 4.22301, 4.28624, 4.25217, 4.07678,\n",
      "       4.04585, 4.34446, 4.34459, 4.42559, 4.5582 , 4.33931, 4.25098,\n",
      "       4.17907, 4.19562, 4.65851, 4.78561, 4.15679, 2.97639, 4.86364,\n",
      "       3.08159, 3.16727, 3.24022, 4.79348, 3.30983, 3.38417, 3.39881,\n",
      "       3.46396, 3.07612, 3.01022, 2.9403 , 3.01204, 2.76818, 4.98951,\n",
      "       2.95618, 2.76192, 3.0309 , 3.13072, 3.27271, 3.45175, 3.37523,\n",
      "       3.58273, 4.70739, 4.78521, 3.52709, 3.36177, 4.91194, 3.69257,\n",
      "       3.68265, 4.91799, 4.91544, 4.06182, 4.83145, 4.66268, 4.7168 ,\n",
      "       4.70162, 4.4839 , 4.38592, 4.64091, 4.51159, 4.68997, 4.45435,\n",
      "       4.86039, 4.92337, 4.89582, 5.02474, 4.83729, 5.08606, 5.08903,\n",
      "       5.01313, 4.9904 , 5.0098 , 5.02104, 5.0113 , 4.84018, 4.80658,\n",
      "       4.82853, 4.75442, 4.74925, 4.61051, 4.55464, 4.55668, 4.59912,\n",
      "       4.82482, 4.79905, 4.72686, 4.88684, 5.10533, 5.08292, 5.13884,\n",
      "       5.14295, 5.16395, 5.21949, 5.22413, 5.12858, 5.30153, 5.25771,\n",
      "       5.24736, 5.28854, 5.4431 , 5.3574 , 5.29882, 5.36857, 5.46882,\n",
      "       5.49219, 5.61344, 5.57705, 3.60517, 5.30021, 3.63293, 3.41062,\n",
      "       3.36428, 5.64182, 3.5018 , 5.72484, 3.57739, 3.52655, 3.53248,\n",
      "       3.55926, 3.72589, 5.71405, 3.77202, 3.93277, 3.75467, 3.92097,\n",
      "       3.97752, 4.06275, 4.01501, 3.90276, 3.95353, 4.11991, 4.00745,\n",
      "       5.83114, 4.05612, 3.90359, 4.07257, 4.1236 , 4.09688, 4.05938,\n",
      "       4.10534, 3.99706, 4.19209, 4.19346, 5.84849, 4.04761, 5.89127,\n",
      "       4.04577, 3.97304, 5.49322, 4.15534, 4.25037, 5.59663, 4.16906,\n",
      "       5.38124, 4.26447, 4.59872, 4.64234, 4.51955, 4.61673, 4.72215,\n",
      "       4.70354, 4.74751, 4.22654, 4.02542, 4.15121, 4.10866, 4.19328,\n",
      "       4.37672, 4.31859, 4.38514, 4.31318, 4.38031, 4.51499, 4.58133,\n",
      "       4.5175 , 4.56875, 4.57764, 4.49678, 4.77419, 4.70474, 4.62613,\n",
      "       4.16032, 4.13329, 4.92009, 4.7095 , 4.81251, 4.94134, 5.07676,\n",
      "       5.03489, 5.09732, 5.10734, 3.79994, 4.97624, 4.81615, 5.01257,\n",
      "       4.9461 , 4.99354, 3.76729, 3.49407, 3.43387, 3.63715, 3.48584,\n",
      "       3.37063, 3.25314, 3.11574, 2.68942, 2.72657, 2.85877, 2.93395,\n",
      "       2.88816, 3.05262, 2.90057, 2.97405, 3.33585, 3.45063, 3.31414,\n",
      "       3.19247, 3.24109, 3.05026, 3.18558, 3.13745, 3.04301, 2.9048 ,\n",
      "       2.88561, 3.01485, 2.86309, 4.65589, 4.59784, 4.19589, 4.60256,\n",
      "       4.07462, 4.32032, 4.34782, 4.46086, 4.45784, 4.47058, 4.37733,\n",
      "       4.32121, 4.08971, 4.03893, 4.23734, 4.47104, 4.36579, 4.39289,\n",
      "       4.3265 , 4.32941, 4.51014, 3.45952, 4.40852, 4.39121, 4.44172,\n",
      "       4.52184, 4.21831, 4.54607, 4.40091, 4.43727, 4.2124 , 4.39856,\n",
      "       4.25499, 4.21948, 4.44149, 4.03255, 4.17611, 3.90434, 3.938  ,\n",
      "       3.82632, 3.81251, 4.03183, 3.81602, 3.9511 , 4.04404],\n",
      "      dtype=float32)]\n"
     ]
    }
   ],
   "source": [
    "with tf.Session() as sess:\n",
    "    coord = tf.train.Coordinator()\n",
    "    threads = tf.train.start_queue_runners(coord=coord)\n",
    "    val = sess.run(data[1:4])\n",
    "    print(val)\n",
    "    coord.request_stop()\n",
    "    coord.join(threads)"
   ]
  },
  {
   "cell_type": "code",
   "execution_count": 38,
   "metadata": {},
   "outputs": [
    {
     "data": {
      "text/plain": [
       "[<tf.Tensor 'DecodeCSV_8:0' shape=(300,) dtype=int32>,\n",
       " <tf.Tensor 'DecodeCSV_8:1' shape=(300,) dtype=float32>,\n",
       " <tf.Tensor 'DecodeCSV_8:2' shape=(300,) dtype=float32>,\n",
       " <tf.Tensor 'DecodeCSV_8:3' shape=(300,) dtype=float32>]"
      ]
     },
     "execution_count": 38,
     "metadata": {},
     "output_type": "execute_result"
    }
   ],
   "source": [
    "data"
   ]
  },
  {
   "cell_type": "code",
   "execution_count": 39,
   "metadata": {},
   "outputs": [
    {
     "data": {
      "text/plain": [
       "[<tf.Tensor 'DecodeCSV_8:1' shape=(300,) dtype=float32>,\n",
       " <tf.Tensor 'DecodeCSV_8:2' shape=(300,) dtype=float32>,\n",
       " <tf.Tensor 'DecodeCSV_8:3' shape=(300,) dtype=float32>]"
      ]
     },
     "execution_count": 39,
     "metadata": {},
     "output_type": "execute_result"
    }
   ],
   "source": [
    "data[1:4]"
   ]
  },
  {
   "cell_type": "code",
   "execution_count": 44,
   "metadata": {},
   "outputs": [
    {
     "data": {
      "text/plain": [
       "<tf.Tensor 'concat_3:0' shape=(2, 3) dtype=int32>"
      ]
     },
     "execution_count": 44,
     "metadata": {},
     "output_type": "execute_result"
    }
   ],
   "source": [
    "t1 = [[1, 2, 3]]\n",
    "t2 = [[7, 8, 9]]\n",
    "\n",
    "tf.concat([t1, t2], 0)\n"
   ]
  },
  {
   "cell_type": "code",
   "execution_count": 45,
   "metadata": {},
   "outputs": [
    {
     "data": {
      "text/plain": [
       "<tf.Tensor 'concat_4:0' shape=(1, 6) dtype=int32>"
      ]
     },
     "execution_count": 45,
     "metadata": {},
     "output_type": "execute_result"
    }
   ],
   "source": [
    "tf.concat([t1, t2], 1)"
   ]
  },
  {
   "cell_type": "code",
   "execution_count": 49,
   "metadata": {},
   "outputs": [
    {
     "data": {
      "text/plain": [
       "<tf.Tensor 'concat_8:0' shape=(9,) dtype=int32>"
      ]
     },
     "execution_count": 49,
     "metadata": {},
     "output_type": "execute_result"
    }
   ],
   "source": [
    "t = [[1,3,4],[3,4,5],[5,6,7]]\n",
    "\n",
    "tf.concat(t,0)"
   ]
  },
  {
   "cell_type": "code",
   "execution_count": 55,
   "metadata": {},
   "outputs": [
    {
     "data": {
      "text/plain": [
       "[<tf.Tensor 'DecodeCSV_8:1' shape=(300,) dtype=float32>,\n",
       " <tf.Tensor 'DecodeCSV_8:2' shape=(300,) dtype=float32>,\n",
       " <tf.Tensor 'DecodeCSV_8:3' shape=(300,) dtype=float32>]"
      ]
     },
     "execution_count": 55,
     "metadata": {},
     "output_type": "execute_result"
    }
   ],
   "source": [
    "data[1:4]"
   ]
  },
  {
   "cell_type": "code",
   "execution_count": 58,
   "metadata": {
    "collapsed": true
   },
   "outputs": [],
   "source": [
    "dat = tf.concat(data[1:4],0)"
   ]
  },
  {
   "cell_type": "code",
   "execution_count": 59,
   "metadata": {},
   "outputs": [
    {
     "name": "stdout",
     "output_type": "stream",
     "text": [
      "Tensor(\"concat_15:0\", shape=(900,), dtype=float32)\n"
     ]
    }
   ],
   "source": [
    "print(dat)"
   ]
  },
  {
   "cell_type": "code",
   "execution_count": 60,
   "metadata": {
    "collapsed": true
   },
   "outputs": [],
   "source": [
    "da = tf.reshape(dat,[300,3])"
   ]
  },
  {
   "cell_type": "code",
   "execution_count": 61,
   "metadata": {},
   "outputs": [
    {
     "data": {
      "text/plain": [
       "<tf.Tensor 'Reshape:0' shape=(300, 3) dtype=float32>"
      ]
     },
     "execution_count": 61,
     "metadata": {},
     "output_type": "execute_result"
    }
   ],
   "source": [
    "da"
   ]
  },
  {
   "cell_type": "code",
   "execution_count": null,
   "metadata": {
    "collapsed": true
   },
   "outputs": [],
   "source": [
    "tf.split(0,10,10)"
   ]
  },
  {
   "cell_type": "code",
   "execution_count": 3,
   "metadata": {},
   "outputs": [
    {
     "name": "stdout",
     "output_type": "stream",
     "text": [
      "Tensor(\"Const:0\", shape=(3, 2, 3), dtype=int32)\n"
     ]
    }
   ],
   "source": [
    "t = tf.constant([[[1, 1, 1], [2, 2, 2]],\n",
    "                 [[3, 3, 3], [4, 4, 4]],\n",
    "                 [[5, 5, 5], [6, 6, 6]]])\n",
    "print(t)"
   ]
  },
  {
   "cell_type": "code",
   "execution_count": 19,
   "metadata": {},
   "outputs": [],
   "source": [
    "t1 = tf.slice(t,[2,1,0],[1,1,3])"
   ]
  },
  {
   "cell_type": "code",
   "execution_count": 20,
   "metadata": {},
   "outputs": [
    {
     "data": {
      "text/plain": [
       "<tf.Tensor 'Slice_4:0' shape=(1, 1, 3) dtype=int32>"
      ]
     },
     "execution_count": 20,
     "metadata": {},
     "output_type": "execute_result"
    }
   ],
   "source": [
    "t1"
   ]
  },
  {
   "cell_type": "code",
   "execution_count": 21,
   "metadata": {},
   "outputs": [],
   "source": [
    "with tf.Session() as sess:\n",
    "    t0 = sess.run(t1)"
   ]
  },
  {
   "cell_type": "code",
   "execution_count": 22,
   "metadata": {},
   "outputs": [
    {
     "data": {
      "text/plain": [
       "array([[[6, 6, 6]]], dtype=int32)"
      ]
     },
     "execution_count": 22,
     "metadata": {},
     "output_type": "execute_result"
    }
   ],
   "source": [
    "t0"
   ]
  },
  {
   "cell_type": "code",
   "execution_count": null,
   "metadata": {},
   "outputs": [],
   "source": []
  }
 ],
 "metadata": {
  "kernelspec": {
   "display_name": "Python 3",
   "language": "python",
   "name": "python3"
  },
  "language_info": {
   "codemirror_mode": {
    "name": "ipython",
    "version": 3
   },
   "file_extension": ".py",
   "mimetype": "text/x-python",
   "name": "python",
   "nbconvert_exporter": "python",
   "pygments_lexer": "ipython3",
   "version": "3.6.5"
  }
 },
 "nbformat": 4,
 "nbformat_minor": 2
}
