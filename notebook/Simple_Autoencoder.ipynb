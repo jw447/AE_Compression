{
 "cells": [
  {
   "cell_type": "markdown",
   "metadata": {},
   "source": [
    "## _FC_ AutoEncoder with Sedov Data"
   ]
  },
  {
   "cell_type": "code",
   "execution_count": 2,
   "metadata": {},
   "outputs": [],
   "source": [
    "%matplotlib inline\n",
    "\n",
    "import os\n",
    "import numpy as np\n",
    "import tensorflow as tf\n",
    "import matplotlib.pyplot as plt"
   ]
  },
  {
   "cell_type": "code",
   "execution_count": 3,
   "metadata": {},
   "outputs": [],
   "source": [
    "# f = open('sedov-pres.dat','rb')\n",
    "root = '/Users/jinzhenwang/PhD/Research_HPC/AE_compression/'\n",
    "\n",
    "f = open(os.path.join(root,'data/GROMACS_data/data_100step_1000seg/md_0_seg.txt'),'r')\n",
    "input_data = f.readlines()\n",
    "# data_node = tf.placeholder(tf.string)\n",
    "# record_bytes = tf.decode_raw(data_node, tf.float64)\n",
    "# sess = tf.Session()\n",
    "# data_num = sess.run(record_bytes, {data_node: input_data})\n",
    "for i in range(1,100):\n",
    "    f = open(os.path.join(root,'data/GROMACS_data/data_100step_1000seg/md_'+str(i)+'_seg.txt'),'r')\n",
    "    input_data = np.concatenate([input_data,f.readlines()],0)\n",
    "\n",
    "# print(np.shape(input_data))\n",
    "# print(input_data[1000])\n",
    "input_data = [float(line.split(' ')[1]) for line in input_data]\n",
    "# print(np.shape(input_data))"
   ]
  },
  {
   "cell_type": "code",
   "execution_count": 4,
   "metadata": {},
   "outputs": [
    {
     "name": "stdout",
     "output_type": "stream",
     "text": [
      "(10000, 1000)\n"
     ]
    }
   ],
   "source": [
    "# print(np.shape(input_data))\n",
    "# print(input_data)\n",
    "input_data = np.reshape(input_data,[10000,1000])\n",
    "print(np.shape(input_data))"
   ]
  },
  {
   "cell_type": "code",
   "execution_count": 5,
   "metadata": {},
   "outputs": [],
   "source": [
    "# img = mnist.train.images[2]\n",
    "# plt.imshow(img.reshape((28, 28)), cmap='Greys_r')\n",
    "# input_data = np.reshape(input_data,[10000,1000,1])"
   ]
  },
  {
   "cell_type": "code",
   "execution_count": 6,
   "metadata": {},
   "outputs": [],
   "source": [
    "# Size of the encoding layer (the hidden layer)\n",
    "# encoding_dim = 32 # feel free to change this value\n",
    "\n",
    "# Input and target placeholders\n",
    "inputs_ = tf.placeholder(tf.float32, (None,1000))\n",
    "targets_ = tf.placeholder(tf.float32, (None,1000))\n",
    "\n",
    "# Output of hidden layer, single fully connected layer here with ReLU activation\n",
    "encoded1 = tf.layers.dense(inputs_, 512, activation = tf.nn.relu)\n",
    "encoded2 = tf.layers.dense(encoded1, 256, activation = tf.nn.relu)\n",
    "encoded3 = tf.layers.dense(encoded2, 128, activation = tf.nn.relu)\n",
    "encoded4 = tf.layers.dense(encoded3, 64, activation = tf.nn.relu)\n",
    "encoded5 = tf.layers.dense(encoded4, 32, activation = tf.nn.relu)\n",
    "\n",
    "encoded6 = tf.layers.dense(encoded5, 64, activation = tf.nn.relu)\n",
    "encoded7 = tf.layers.dense(encoded6, 128, activation = tf.nn.relu)\n",
    "encoded8 = tf.layers.dense(encoded7, 256, activation = tf.nn.relu)\n",
    "encoded9 = tf.layers.dense(encoded8, 512, activation = tf.nn.relu)\n",
    "logits = tf.layers.dense(encoded9, 1000, activation=None)\n",
    "# Sigmoid output from logits\n",
    "# decoded = tf.nn.sigmoid(logits)\n",
    "encoded = encoded5\n",
    "decoded = logits\n",
    "# Sigmoid cross-entropy loss\n",
    "# loss = tf.nn.sigmoid_cross_entropy_with_logits(labels=targets_, logits=logits)\n",
    "loss = tf.pow((targets_-decoded),2)\n",
    "# Mean of the loss\n",
    "cost = tf.reduce_mean(loss)\n",
    "opt = tf.train.AdamOptimizer(0.0001).minimize(cost)"
   ]
  },
  {
   "cell_type": "code",
   "execution_count": 7,
   "metadata": {},
   "outputs": [
    {
     "name": "stdout",
     "output_type": "stream",
     "text": [
      "Tensor(\"Placeholder:0\", shape=(?, 1000), dtype=float32)\n"
     ]
    }
   ],
   "source": [
    "print(inputs_)"
   ]
  },
  {
   "cell_type": "markdown",
   "metadata": {},
   "source": [
    "## Training"
   ]
  },
  {
   "cell_type": "code",
   "execution_count": 8,
   "metadata": {},
   "outputs": [],
   "source": [
    "# Create the session\n",
    "sess = tf.Session()"
   ]
  },
  {
   "cell_type": "code",
   "execution_count": 9,
   "metadata": {
    "scrolled": true
   },
   "outputs": [],
   "source": [
    "epochs = 10000\n",
    "# batch_size = 200\n",
    "sess.run(tf.global_variables_initializer())\n"
   ]
  },
  {
   "cell_type": "code",
   "execution_count": null,
   "metadata": {},
   "outputs": [
    {
     "name": "stdout",
     "output_type": "stream",
     "text": [
      "Epoch: 1/10000... Training loss: 13.0545\n",
      "Epoch: 101/10000... Training loss: 0.0030\n",
      "Epoch: 201/10000... Training loss: 0.0010\n",
      "Epoch: 301/10000... Training loss: 0.0010\n"
     ]
    }
   ],
   "source": [
    "for e in range(epochs):\n",
    "    feed = {inputs_: input_data, targets_: input_data}\n",
    "#     for ii in range(mnist.train.num_examples//batch_size):\n",
    "#         batch = mnist.train.next_batch(batch_size)\n",
    "#         feed = {inputs_: batch[0], targets_: batch[0]}\n",
    "    batch_cost, _ = sess.run([cost, opt], feed_dict=feed)\n",
    "    if(e % 100 == 0):\n",
    "        print(\"Epoch: {}/{}...\".format(e+1, epochs),\n",
    "              \"Training loss: {:.4f}\".format(batch_cost))"
   ]
  },
  {
   "cell_type": "markdown",
   "metadata": {},
   "source": [
    "## Checking out the results\n",
    "\n",
    "Below I've plotted some of the test images along with their reconstructions. For the most part these look pretty good except for some blurriness in some parts."
   ]
  },
  {
   "cell_type": "code",
   "execution_count": null,
   "metadata": {},
   "outputs": [],
   "source": [
    "fig, axes = plt.subplots(nrows=2, ncols=10, sharex=True, sharey=True, figsize=(20,4))\n",
    "in_imgs = input_data[:10]\n",
    "# print(np.shape(in_imgs))\n",
    "reconstructed, compressed = sess.run([decoded, encoded], feed_dict={inputs_: in_imgs})\n",
    "\n",
    "for images, row in zip([in_imgs, reconstructed], axes):\n",
    "    for img, ax in zip(images, row):\n",
    "        ax.imshow(img.reshape((100, 10)), cmap='Greys_r')\n",
    "        ax.get_xaxis().set_visible(False)\n",
    "        ax.get_yaxis().set_visible(False)\n",
    "\n",
    "fig.tight_layout(pad=0.1)"
   ]
  },
  {
   "cell_type": "code",
   "execution_count": null,
   "metadata": {},
   "outputs": [],
   "source": [
    "reconstructed"
   ]
  },
  {
   "cell_type": "code",
   "execution_count": null,
   "metadata": {},
   "outputs": [],
   "source": [
    "in_imgs"
   ]
  }
 ],
 "metadata": {
  "kernelspec": {
   "display_name": "Python 3",
   "language": "python",
   "name": "python3"
  },
  "language_info": {
   "codemirror_mode": {
    "name": "ipython",
    "version": 3
   },
   "file_extension": ".py",
   "mimetype": "text/x-python",
   "name": "python",
   "nbconvert_exporter": "python",
   "pygments_lexer": "ipython3",
   "version": "3.6.5"
  }
 },
 "nbformat": 4,
 "nbformat_minor": 2
}
